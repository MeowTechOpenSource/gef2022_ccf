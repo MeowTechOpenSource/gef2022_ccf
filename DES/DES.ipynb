{
 "cells": [
  {
   "cell_type": "markdown",
   "metadata": {},
   "source": [
    "Carryout the following tasks on Sage (pleaase read SageMath Mannual - DES)\n",
    "https://doc.sagemath.org/html/en/reference/cryptography/sage/crypto/block_cipher/des.html"
   ]
  },
  {
   "cell_type": "markdown",
   "metadata": {},
   "source": [
    "a.) Round keys generation:\n",
    "\n",
    "Find the round keys generated using the key K=0x9ac29d5596cbed65\n",
    "(hint: read class DES_KS(SageObject) in \"des.py\" or the SageMath Mannual - DES)\n"
   ]
  },
  {
   "cell_type": "code",
   "execution_count": null,
   "metadata": {},
   "outputs": [],
   "source": [
    "from sage.crypto.block_cipher.des import DES_KS"
   ]
  },
  {
   "cell_type": "code",
   "execution_count": null,
   "metadata": {},
   "outputs": [],
   "source": [
    "K=0x9ac29d5596cbed65"
   ]
  },
  {
   "cell_type": "code",
   "execution_count": null,
   "metadata": {},
   "outputs": [],
   "source": []
  },
  {
   "cell_type": "code",
   "execution_count": null,
   "metadata": {},
   "outputs": [],
   "source": []
  },
  {
   "cell_type": "markdown",
   "metadata": {},
   "source": [
    "b.) Initial and Final Permutations:\n",
    "1. Find the output of the initial permutation box when the input is given in\n",
    "hexadecimal as: 0x0002 0000 0000 0001\n"
   ]
  },
  {
   "cell_type": "code",
   "execution_count": null,
   "metadata": {},
   "outputs": [],
   "source": [
    "from sage.crypto.block_cipher.des import DES\n",
    "from sage.crypto.block_cipher.des import convert_to_vector"
   ]
  },
  {
   "cell_type": "code",
   "execution_count": null,
   "metadata": {
    "scrolled": true
   },
   "outputs": [],
   "source": [
    "def vec2hex(v):\n",
    "    return Integer(''.join(map(str,v)),2).hex()"
   ]
  },
  {
   "cell_type": "code",
   "execution_count": null,
   "metadata": {},
   "outputs": [],
   "source": []
  },
  {
   "cell_type": "code",
   "execution_count": null,
   "metadata": {},
   "outputs": [],
   "source": []
  },
  {
   "cell_type": "markdown",
   "metadata": {},
   "source": [
    "2. Prove that the initial and final permutations are the inverse of each other\n",
    "by finding the output of the final permutation if the input is 0x0000 0080 0000\n",
    "0002\n",
    "\n",
    "(hint: read functions DES._ip(self, block) and DES._inv_ip(self, block) in\n",
    "\"des.py\" or the SageMath Mannual - DES)\n"
   ]
  },
  {
   "cell_type": "code",
   "execution_count": null,
   "metadata": {},
   "outputs": [],
   "source": []
  },
  {
   "cell_type": "code",
   "execution_count": null,
   "metadata": {},
   "outputs": [],
   "source": []
  },
  {
   "cell_type": "code",
   "execution_count": null,
   "metadata": {},
   "outputs": [],
   "source": []
  },
  {
   "cell_type": "markdown",
   "metadata": {},
   "source": [
    "c) Round operation\n",
    "Please use the function DES._f(self, block) to find out the round 2 state\n",
    "given the round 1 state=0xfffffffff0aaf0aa and subkey K2=0x1b02effc7072\n",
    "\n",
    "(hint: read functions DES._f(self, block) in \"des.py\")"
   ]
  },
  {
   "cell_type": "code",
   "execution_count": null,
   "metadata": {
    "scrolled": true
   },
   "outputs": [],
   "source": [
    "def DESround(state, K):\n",
    "    return\n",
    "\n",
    "\n",
    "\n",
    "state2 = DESround()\n",
    "print(vec2hex(state2))"
   ]
  },
  {
   "cell_type": "markdown",
   "metadata": {},
   "source": [
    "## Lecture slides P.29 Example"
   ]
  },
  {
   "cell_type": "code",
   "execution_count": null,
   "metadata": {},
   "outputs": [],
   "source": [
    "ks = [\n",
    "    0x1e030f03080d2930, 0x0a31293432242318,\n",
    "    0x23072318201d0c1d, 0x05261d3824311a20,\n",
    "    0x3325340136002c25, 0x123a2d0d04262a1c,\n",
    "    0xC21f120b1c130611, 0x1c10372a2832002b,\n",
    "    0x04292a380c341f03, 0x2703212607280403,\n",
    "    0x2826390c31261504, 0x12071c241a0a0f08,\n",
    "    0x300935393c0d100b, 0x311e09231321182a,\n",
    "    0x283d3e0227072528, 0x2921080b13143025\n",
    "]"
   ]
  },
  {
   "cell_type": "code",
   "execution_count": null,
   "metadata": {},
   "outputs": [],
   "source": [
    "def tobits(x):\n",
    "    x = x.bits()\n",
    "    x = x + [0]*(64-len(x)) \n",
    "    groups_of_8_bits = [x[i:i+8] for i in range(0, len(x), 8)]\n",
    "    first_6_bits = [group[:6] for group in groups_of_8_bits]\n",
    "    b = [bit for group in first_6_bits for bit in group]\n",
    "    return b"
   ]
  },
  {
   "cell_type": "code",
   "execution_count": null,
   "metadata": {},
   "outputs": [],
   "source": [
    "state = 0x5a005a003cf03c0f\n",
    "\n",
    "for k in ks:\n",
    "    kk = tobits(k)[::-1]\n",
    "    state = DESround(state, kk)\n",
    "\n",
    "    print(hex(k),vec2hex(state[:32]),vec2hex(state[32:]))\n",
    "    "
   ]
  },
  {
   "cell_type": "markdown",
   "metadata": {},
   "source": [
    "d.) Expansion P-Box\n",
    "Perform the DES expansion P-Box operation with the Right part vector\n",
    "(i.e state[32:64]) given round state=0xfffffffff0aaf0aa \n",
    "(i.e. Right part vector R=0xf0aaf0aa)\n",
    "\n",
    "(hint: read functions DES._expand(self, block) in \"des.py\")"
   ]
  },
  {
   "cell_type": "code",
   "execution_count": null,
   "metadata": {},
   "outputs": [],
   "source": []
  },
  {
   "cell_type": "code",
   "execution_count": null,
   "metadata": {},
   "outputs": [],
   "source": []
  },
  {
   "cell_type": "code",
   "execution_count": null,
   "metadata": {},
   "outputs": [],
   "source": []
  },
  {
   "cell_type": "markdown",
   "metadata": {},
   "source": [
    "e.) Substitution box (S_box)\n",
    "1. Compute the DES S-Box when the 48-bit input state=\n",
    "[0,1,1,0,0,0,0,1,0,0,0,1,0,1,1,\n",
    "1,1,0,1,1,1,0,1,0,1,0,0,0,0,1,1,0,0,1,1,0,0,1,0,1,0,0,1,0,0,1,1,1]\n",
    "\n",
    "(hint: read functions DES.sbox_layer(self, block) in \"des.py\")"
   ]
  },
  {
   "cell_type": "code",
   "execution_count": null,
   "metadata": {},
   "outputs": [],
   "source": []
  },
  {
   "cell_type": "markdown",
   "metadata": {},
   "source": [
    "2. The input to S-box 1 is 100011. What is the output?\n"
   ]
  },
  {
   "cell_type": "code",
   "execution_count": null,
   "metadata": {},
   "outputs": [],
   "source": []
  },
  {
   "cell_type": "code",
   "execution_count": null,
   "metadata": {},
   "outputs": [],
   "source": []
  },
  {
   "cell_type": "code",
   "execution_count": null,
   "metadata": {},
   "outputs": [],
   "source": []
  },
  {
   "cell_type": "code",
   "execution_count": null,
   "metadata": {},
   "outputs": [],
   "source": []
  },
  {
   "cell_type": "markdown",
   "metadata": {},
   "source": [
    "3. The input to S-box 8 is 000000. What is the output?\n",
    "(hint: read functions get_sbox(self, block) in Section: Sage codes for basic\n",
    "DES operations)\n"
   ]
  },
  {
   "cell_type": "code",
   "execution_count": null,
   "metadata": {},
   "outputs": [],
   "source": []
  },
  {
   "cell_type": "code",
   "execution_count": null,
   "metadata": {},
   "outputs": [],
   "source": []
  },
  {
   "cell_type": "code",
   "execution_count": null,
   "metadata": {},
   "outputs": [],
   "source": []
  },
  {
   "cell_type": "markdown",
   "metadata": {},
   "source": [
    "f.) Straight P-box\n",
    "\n",
    "What is the DES straight P-box output for state vector B?\n",
    "\n",
    "B=(0,1,0,1,1,1,0,0,1,0,0,0,0,0,1,0,1,0,1,1,0,1,0,1,1,0,0,1,0,1,1,1)\n",
    "\n",
    "(hint: read functions DES._permutaion(self, block) in \"des.py\")"
   ]
  },
  {
   "cell_type": "code",
   "execution_count": null,
   "metadata": {},
   "outputs": [],
   "source": []
  },
  {
   "cell_type": "code",
   "execution_count": null,
   "metadata": {},
   "outputs": [],
   "source": []
  },
  {
   "cell_type": "markdown",
   "metadata": {},
   "source": [
    "Exercise 2: DES encryption and Description"
   ]
  },
  {
   "cell_type": "markdown",
   "metadata": {},
   "source": [
    "a.) Using DES encrypt the plaintext P=0x01A1D6D039776742 with the key K,\n",
    "K = 0x7CA110454A1A6E57"
   ]
  },
  {
   "cell_type": "code",
   "execution_count": null,
   "metadata": {},
   "outputs": [],
   "source": [
    "from sage.crypto.block_cipher.des import DES"
   ]
  },
  {
   "cell_type": "code",
   "execution_count": null,
   "metadata": {},
   "outputs": [],
   "source": []
  },
  {
   "cell_type": "code",
   "execution_count": null,
   "metadata": {},
   "outputs": [],
   "source": []
  },
  {
   "cell_type": "markdown",
   "metadata": {},
   "source": [
    "b.) Decrypt back the ciphertext in a.)"
   ]
  },
  {
   "cell_type": "code",
   "execution_count": null,
   "metadata": {},
   "outputs": [],
   "source": []
  },
  {
   "cell_type": "code",
   "execution_count": null,
   "metadata": {},
   "outputs": [],
   "source": []
  },
  {
   "cell_type": "markdown",
   "metadata": {},
   "source": [
    "c.) Show the rounds outputs and the ciphertext in a.)\n"
   ]
  },
  {
   "cell_type": "code",
   "execution_count": null,
   "metadata": {},
   "outputs": [],
   "source": []
  },
  {
   "cell_type": "markdown",
   "metadata": {},
   "source": [
    "d.) Using DES.encrypt and DES.decrypt the ciphertext in P = 0x0123456789ABCDEF\n",
    "with key K64, K64 = 0x133457799BBCDFF1"
   ]
  },
  {
   "cell_type": "code",
   "execution_count": null,
   "metadata": {},
   "outputs": [],
   "source": []
  },
  {
   "cell_type": "code",
   "execution_count": null,
   "metadata": {},
   "outputs": [],
   "source": []
  }
 ],
 "metadata": {
  "kernelspec": {
   "display_name": "SageMath 9.3",
   "language": "sage",
   "name": "sagemath"
  },
  "language_info": {
   "codemirror_mode": {
    "name": "ipython",
    "version": 3
   },
   "file_extension": ".py",
   "mimetype": "text/x-python",
   "name": "python",
   "nbconvert_exporter": "python",
   "pygments_lexer": "ipython3",
   "version": "3.7.10"
  }
 },
 "nbformat": 4,
 "nbformat_minor": 4
}
