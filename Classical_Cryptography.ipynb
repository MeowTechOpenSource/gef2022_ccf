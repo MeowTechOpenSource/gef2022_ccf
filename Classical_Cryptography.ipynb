{
 "cells": [
  {
   "cell_type": "markdown",
   "metadata": {},
   "source": [
    "# Classical Cryptography"
   ]
  },
  {
   "cell_type": "code",
   "execution_count": null,
   "metadata": {},
   "outputs": [],
   "source": [
    "import string\n",
    "\n",
    "help(string)"
   ]
  },
  {
   "cell_type": "markdown",
   "metadata": {},
   "source": [
    "## Caesar Cipher"
   ]
  },
  {
   "cell_type": "code",
   "execution_count": null,
   "metadata": {},
   "outputs": [],
   "source": [
    "alpha = string.ascii_lowercase\n",
    "print(alpha)"
   ]
  },
  {
   "cell_type": "code",
   "execution_count": null,
   "metadata": {},
   "outputs": [],
   "source": [
    "def is_alpha_char(c):\n",
    "    return c.lower() in alpha\n",
    "\n",
    "def char_to_num(c):\n",
    "    return alpha.index(c.lower())\n",
    "\n",
    "def num_to_char(x):\n",
    "    return alpha[ x % 26 ]"
   ]
  },
  {
   "cell_type": "code",
   "execution_count": null,
   "metadata": {},
   "outputs": [],
   "source": [
    "class CaesarCipher:\n",
    "    def __init__(self, key):\n",
    "        pass\n",
    "               \n",
    "    def encrypt(self, plaintext):     \n",
    "        return \n",
    "\n",
    "    def decrypt(self, ciphertext):\n",
    "        return "
   ]
  },
  {
   "cell_type": "code",
   "execution_count": null,
   "metadata": {},
   "outputs": [],
   "source": [
    "# Initiate a CaesarCipher with your chosen key\n",
    "k =\n",
    "cc = "
   ]
  },
  {
   "cell_type": "code",
   "execution_count": null,
   "metadata": {},
   "outputs": [],
   "source": [
    "# Encrypt the message 'meetmeafterthetogaparty'\n",
    "p = 'meetmeafterthetogaparty'\n",
    "c = cc.encrypt(p)\n",
    "c"
   ]
  },
  {
   "cell_type": "code",
   "execution_count": null,
   "metadata": {},
   "outputs": [],
   "source": [
    "# Decrypt the message\n",
    "p = \n",
    "p"
   ]
  },
  {
   "cell_type": "markdown",
   "metadata": {},
   "source": [
    "## Brute force attack"
   ]
  },
  {
   "cell_type": "code",
   "execution_count": null,
   "metadata": {},
   "outputs": [],
   "source": [
    "c = 'phhwphdiwhuwkhwrjdsduwb'"
   ]
  },
  {
   "cell_type": "code",
   "execution_count": null,
   "metadata": {},
   "outputs": [],
   "source": [
    "for k in range(26):\n",
    "    cc = CaesarCipher(k)\n",
    "    print(cc.decrypt(c))"
   ]
  },
  {
   "cell_type": "markdown",
   "metadata": {},
   "source": [
    "## Monoalphabetic Cipher\n"
   ]
  },
  {
   "cell_type": "code",
   "execution_count": null,
   "metadata": {},
   "outputs": [],
   "source": [
    "import random\n",
    "\n",
    "alpha = string.ascii_lowercase\n",
    "\n",
    "# Shuffle the alphabets using random.shuffle()\n",
    "random_alpha = \n",
    "\n",
    "# Create a lookup table and its inverse\n",
    "lookup = \n",
    "lookup_inv = "
   ]
  },
  {
   "cell_type": "code",
   "execution_count": null,
   "metadata": {},
   "outputs": [],
   "source": [
    "print(alpha)\n",
    "print(''.join(random_alpha))"
   ]
  },
  {
   "cell_type": "code",
   "execution_count": null,
   "metadata": {},
   "outputs": [],
   "source": [
    "c = ''.join([lookup[s] for s in p])"
   ]
  },
  {
   "cell_type": "code",
   "execution_count": null,
   "metadata": {},
   "outputs": [],
   "source": [
    "''.join([lookup_inv[s] for s in c])"
   ]
  },
  {
   "cell_type": "markdown",
   "metadata": {},
   "source": [
    "## Frequency attack"
   ]
  },
  {
   "cell_type": "code",
   "execution_count": null,
   "metadata": {},
   "outputs": [],
   "source": [
    "# https://en.wikipedia.org/wiki/Cryptography\n",
    "s = '''\n",
    "Cryptography, or cryptology, is the practice and study of techniques for secure communication in the presence of adversarial behavior.[2] More generally, cryptography is about constructing and analyzing protocols that prevent third parties or the public from reading private messages.[3] Modern cryptography exists at the intersection of the disciplines of mathematics, computer science, information security, electrical engineering, digital signal processing, physics, and others.[4] Core concepts related to information security (data confidentiality, data integrity, authentication, and non-repudiation) are also central to cryptography.[5] Practical applications of cryptography include electronic commerce, chip-based payment cards, digital currencies, computer passwords, and military communications.\n",
    "\n",
    "Cryptography prior to the modern age was effectively synonymous with encryption, converting readable information (plaintext) to unintelligible nonsense text (ciphertext), which can only be read by reversing the process (decryption). The sender of an encrypted (coded) message shares the decryption (decoding) technique only with intended recipients to preclude access from adversaries. The cryptography literature often uses the names \"Alice\" (or \"A\") for the sender, \"Bob\" (or \"B\") for the intended recipient, and \"Eve\" (or \"E\") for the eavesdropping adversary.[6] Since the development of rotor cipher machines in World War I and the advent of computers in World War II, cryptography methods have become increasingly complex and their applications more varied.\n",
    "\n",
    "Modern cryptography is heavily based on mathematical theory and computer science practice; cryptographic algorithms are designed around computational hardness assumptions, making such algorithms hard to break in actual practice by any adversary. While it is theoretically possible to break into a well-designed system, it is infeasible in actual practice to do so. Such schemes, if well designed, are therefore termed \"computationally secure\"; theoretical advances (e.g., improvements in integer factorization algorithms) and faster computing technology require these designs to be continually reevaluated, and if necessary, adapted. Information-theoretically secure schemes that provably cannot be broken even with unlimited computing power, such as the one-time pad, are much more difficult to use in practice than the best theoretically breakable, but computationally secure, schemes.\n",
    "\n",
    "The growth of cryptographic technology has raised a number of legal issues in the Information Age. Cryptography's potential for use as a tool for espionage and sedition has led many governments to classify it as a weapon and to limit or even prohibit its use and export.[7] In some jurisdictions where the use of cryptography is legal, laws permit investigators to compel the disclosure of encryption keys for documents relevant to an investigation.[8][9] Cryptography also plays a major role in digital rights management and copyright infringement disputes in regard to digital media.[10]\n",
    "\n",
    "The first use of the term \"cryptograph\" (as opposed to \"cryptogram\") dates back to the 19th century—originating from \"The Gold-Bug,\" a story by Edgar Allan Poe.[11][12]\n",
    "\n",
    "Until modern times, cryptography referred almost exclusively to \"encryption\", which is the process of converting ordinary information (called plaintext) into an unintelligible form (called ciphertext).[13] Decryption is the reverse, in other words, moving from the unintelligible ciphertext back to plaintext. A cipher (or cypher) is a pair of algorithms that carry out the encryption and the reversing decryption. The detailed operation of a cipher is controlled both by the algorithm and, in each instance, by a \"key\". The key is a secret (ideally known only to the communicants), usually a string of characters (ideally short so it can be remembered by the user), which is needed to decrypt the ciphertext. In formal mathematical terms, a \"cryptosystem\" is the ordered list of elements of finite possible plaintexts, finite possible cyphertexts, finite possible keys, and the encryption and decryption algorithms that correspond to each key. Keys are important both formally and in actual practice, as ciphers without variable keys can be trivially broken with only the knowledge of the cipher used and are therefore useless (or even counter-productive) for most purposes. Historically, ciphers were often used directly for encryption or decryption without additional procedures such as authentication or integrity checks.\n",
    "\n",
    "There are two main types of cryptosystems: symmetric and asymmetric. In symmetric systems, the only ones known until the 1970s, the same secret key encrypts and decrypts a message. Data manipulation in symmetric systems is significantly faster than in asymmetric systems. Asymmetric systems use a \"public key\" to encrypt a message and a related \"private key\" to decrypt it. The advantage of asymmetric systems is that the public key can be freely published, allowing parties to establish secure communication without having a shared secret key. In practice, asymmetric systems are used to first exchange a secret key, and then secure communication proceeds via a more efficient symmetric system using that key.[14] Examples of asymmetric systems include Diffie–Hellman key exchange, RSA (Rivest–Shamir–Adleman), ECC (Elliptic Curve Cryptography), and Post-quantum cryptography. Secure symmetric algorithms include the commonly used AES (Advanced Encryption Standard) which replaced the older DES (Data Encryption Standard).[15] Insecure symmetric algorithms include children's language tangling schemes such as Pig Latin or other cant, and all historical cryptographic schemes, however seriously intended, prior to the invention of the one-time pad early in the 20th century.\n",
    "\n",
    "In colloquial use, the term \"code\" is often used to mean any method of encryption or concealment of meaning. However, in cryptography, code has a more specific meaning: the replacement of a unit of plaintext (i.e., a meaningful word or phrase) with a code word (for example, \"wallaby\" replaces \"attack at dawn\"). A cypher, in contrast, is a scheme for changing or substituting an element below such a level (a letter, a syllable, or a pair of letters, etc.) in order to produce a cyphertext.\n",
    "\n",
    "Cryptanalysis is the term used for the study of methods for obtaining the meaning of encrypted information without access to the key normally required to do so; i.e., it is the study of how to \"crack\" encryption algorithms or their implementations.\n",
    "\n",
    "Some use the terms \"cryptography\" and \"cryptology\" interchangeably in English,[16] while others (including US military practice generally) use \"cryptography\" to refer specifically to the use and practice of cryptographic techniques and \"cryptology\" to refer to the combined study of cryptography and cryptanalysis.[17][18] English is more flexible than several other languages in which \"cryptology\" (done by cryptologists) is always used in the second sense above. RFC 2828 advises that steganography is sometimes included in cryptology.[19]\n",
    "\n",
    "The study of characteristics of languages that have some application in cryptography or cryptology (e.g. frequency data, letter combinations, universal patterns, etc.) is called cryptolinguistics.\n",
    "\n",
    "'''.lower()"
   ]
  },
  {
   "cell_type": "code",
   "execution_count": null,
   "metadata": {},
   "outputs": [],
   "source": [
    "ss = ''.join([t for t in s if t in alpha])"
   ]
  },
  {
   "cell_type": "code",
   "execution_count": null,
   "metadata": {},
   "outputs": [],
   "source": [
    "ss_encoded = ''.join([lookup[s_i] for s_i in ss])"
   ]
  },
  {
   "cell_type": "code",
   "execution_count": null,
   "metadata": {},
   "outputs": [],
   "source": [
    "ss_encoded"
   ]
  },
  {
   "cell_type": "code",
   "execution_count": null,
   "metadata": {},
   "outputs": [],
   "source": [
    "from collections import Counter\n",
    "\n",
    "res = Counter(ss_encoded)\n",
    "res = {k: v for k, v in sorted(dict(res).items(), key=lambda item: -item[1])}\n",
    "print(res)"
   ]
  },
  {
   "cell_type": "code",
   "execution_count": null,
   "metadata": {},
   "outputs": [],
   "source": [
    "from matplotlib import pyplot as plt\n",
    "\n",
    "plt.figure(figsize=(18,6))\n",
    "x = [i for i in res]\n",
    "y = [res[i]/sum(res.values()) for i in res]\n",
    "\n",
    "ax = plt.bar(x, y)\n",
    "rects = ax.patches\n",
    "\n",
    "\n",
    "for i, (rect, label) in enumerate(zip(rects, y)):\n",
    "    height = rect.get_height()\n",
    "    plt.text(\n",
    "       i , height+0.001, '{:.3f}'.format(label), ha=\"center\", va=\"bottom\"\n",
    "    )\n",
    "\n",
    "plt.show() "
   ]
  },
  {
   "cell_type": "code",
   "execution_count": null,
   "metadata": {},
   "outputs": [],
   "source": [
    "freq_table = 'ETAOINSRHDLUCMFYWGPBVKXQJZ'.lower()\n",
    "\n",
    "lookup_freqatt = dict(zip(res.keys(),freq_table)) "
   ]
  },
  {
   "cell_type": "code",
   "execution_count": null,
   "metadata": {},
   "outputs": [],
   "source": [
    "lookup_inv"
   ]
  },
  {
   "cell_type": "code",
   "execution_count": null,
   "metadata": {},
   "outputs": [],
   "source": [
    "lookup_freqatt"
   ]
  },
  {
   "cell_type": "markdown",
   "metadata": {},
   "source": [
    "## Playfair Cipher"
   ]
  },
  {
   "cell_type": "code",
   "execution_count": null,
   "metadata": {},
   "outputs": [],
   "source": [
    "import numpy as np\n",
    "class PlayfairCipher:\n",
    "    def __init__(self, key):\n",
    "        self.key = key\n",
    "        self.m = self.get_k_matrix()\n",
    "        \n",
    "    def get_k_matrix(self):\n",
    "        seen = set()\n",
    "        k = ''.join([k for k in self.key if not (k in seen or seen.add(k))])\n",
    "        alpha = string.ascii_uppercase\n",
    "        alpha = ''.join([i for i in alpha if (i not in k) and (i!='J')])\n",
    "        k = k + alpha\n",
    "        m = np.zeros((5,5)).astype(str)\n",
    "        c = 0\n",
    "        for i in range(5):\n",
    "            for j in range(5):\n",
    "                m[i][j] = k[c]\n",
    "                c += 1\n",
    "        return m\n",
    "    \n",
    "    def insert(self, s, res=None):\n",
    "        if res is None:\n",
    "            res = []\n",
    "        if len(s)==0:\n",
    "            return ''.join(res)\n",
    "        elif len(s)==1:\n",
    "            res.append(s[0])\n",
    "            return ''.join(res)\n",
    "        elif s[0][0]==s[0][1]:\n",
    "            res.extend([s[0][0],'X',s[0][1]])\n",
    "            return self.insert(s[1:], res)\n",
    "        else:\n",
    "            res.extend(s[0])\n",
    "            return self.insert(s[1:], res)\n",
    "        \n",
    "    def prepare(self, p):\n",
    "        p = p.upper().replace('J','I').replace(' ','')\n",
    "\n",
    "        p = [p[i:i+ 2] for i in range(0,len(p),2)]\n",
    "        p = self.insert(p)\n",
    "        p = ''.join(p)\n",
    "\n",
    "        p = [p[i:i+ 2] for i in range(0,len(p),2)]\n",
    "\n",
    "        if len(p[-1])==1:\n",
    "            p[-1] = p[-1]+'X'\n",
    "        return p\n",
    "    \n",
    "    def encrypt(self, p):\n",
    "        b = self.prepare(p)\n",
    "        c = []\n",
    "        for bb in b:\n",
    "            row_index1, col_index1 = np.where(bb[0] == self.m)\n",
    "            row_index2, col_index2 = np.where(bb[1] == self.m)\n",
    "\n",
    "            same_row = (row_index1==row_index2)[0]\n",
    "            same_col = (col_index1==col_index2)[0]\n",
    "\n",
    "            if same_row:\n",
    "                c1 = self.m[row_index1[0], (col_index1[0]+1)%5]\n",
    "                c2 = self.m[row_index2[0], (col_index2[0]+1)%5]\n",
    "                c.append( c1+c2 )\n",
    "            elif same_col:\n",
    "                c1 = self.m[(row_index1[0]+1)%5,col_index1[0]]\n",
    "                c2 = self.m[(row_index2[0]+1)%5,col_index2[0]]\n",
    "                c.append( c1+c2 )\n",
    "            else:\n",
    "                c1 = self.m[row_index1[0],col_index2[0]]\n",
    "                c2 = self.m[row_index2[0],col_index1[0]]\n",
    "                c.append( c1+c2 )\n",
    "        return c\n",
    "        \n",
    "    def decrypt(self,c):\n",
    "        p = []\n",
    "        for cc in c:\n",
    "            row_index1, col_index1 = np.where(cc[0] == self.m)\n",
    "            row_index2, col_index2 = np.where(cc[1] == self.m)\n",
    "\n",
    "            same_row = (row_index1==row_index2)[0]\n",
    "            same_col = (col_index1==col_index2)[0]\n",
    "\n",
    "            if same_row:\n",
    "                p1 = self.m[row_index1[0], (col_index1[0]-1)%5]\n",
    "                p2 = self.m[row_index2[0], (col_index2[0]-1)%5]\n",
    "                p.append( p1+p2 )\n",
    "            elif same_col:\n",
    "                p1 = self.m[(row_index1[0]-1)%5,col_index1[0]]\n",
    "                p2 = self.m[(row_index2[0]-1)%5,col_index2[0]]\n",
    "                p.append( p1+p2 )\n",
    "            else:\n",
    "                p1 = self.m[row_index1[0],col_index2[0]]\n",
    "                p2 = self.m[row_index2[0],col_index1[0]]\n",
    "                p.append( p1+p2 )   \n",
    "        return ''.join(p)"
   ]
  },
  {
   "cell_type": "code",
   "execution_count": null,
   "metadata": {},
   "outputs": [],
   "source": [
    "# Initiate a PlayfairCipher with the key 'MONARCHY'\n",
    "k = 'MONARCHY'\n",
    "pc = "
   ]
  },
  {
   "cell_type": "code",
   "execution_count": null,
   "metadata": {},
   "outputs": [],
   "source": [
    "# Encrypt the message 'MEET PRIME MINISTER AFTER DINNER'\n",
    "c = \n",
    "c"
   ]
  },
  {
   "cell_type": "code",
   "execution_count": null,
   "metadata": {},
   "outputs": [],
   "source": [
    "# Decrypt the message\n",
    "pc.decrypt(c)"
   ]
  },
  {
   "cell_type": "markdown",
   "metadata": {},
   "source": [
    "## Vigenère cipher"
   ]
  },
  {
   "cell_type": "code",
   "execution_count": null,
   "metadata": {},
   "outputs": [],
   "source": [
    "class VigenèreCipher:\n",
    "    def __init__(self, k):    \n",
    "        assert isinstance(k,str)\n",
    "        self.alpha = string.ascii_lowercase\n",
    "        self.k = [ self.char_to_num(i) for i in k ]\n",
    "        self.len = len(self.k)\n",
    "        \n",
    "    def is_alpha_char(self, c):\n",
    "        return c.lower() in alpha\n",
    "\n",
    "    def char_to_num(self, c):\n",
    "        return alpha.index(c.lower())\n",
    "\n",
    "    def num_to_char(self, x):\n",
    "        return alpha[ x % 26 ]\n",
    "\n",
    "    def encrypt(self, p):     \n",
    "        c_encoded = [(char_to_num(p[i]) + self.k[i%self.len])%26 for i in range(len(p))]\n",
    "        c = ''.join([self.alpha[s] for s in c_encoded])\n",
    "        return c\n",
    "\n",
    "    def decrypt(self, c):\n",
    "        p_encoded = [(char_to_num(c[i]) - self.k[i%self.len])%26 for i in range(len(c))]\n",
    "        p = ''.join([self.alpha[s] for s in p_encoded])\n",
    "        return p"
   ]
  },
  {
   "cell_type": "code",
   "execution_count": null,
   "metadata": {},
   "outputs": [],
   "source": [
    "# Initiate a VigenèreCipher with the key 'deceptive'\n",
    "k = 'deceptive'\n",
    "vc = "
   ]
  },
  {
   "cell_type": "code",
   "execution_count": null,
   "metadata": {},
   "outputs": [],
   "source": [
    "# Encrypt the message 'wearediscoveredsaveyourself'\n",
    "p = 'wearediscoveredsaveyourself'\n",
    "c = \n",
    "c"
   ]
  },
  {
   "cell_type": "code",
   "execution_count": null,
   "metadata": {},
   "outputs": [],
   "source": [
    "# Decrypt the message\n",
    "vc.decrypt(c)"
   ]
  },
  {
   "cell_type": "markdown",
   "metadata": {},
   "source": [
    "## Vernam Cipher and One-Time Pad "
   ]
  },
  {
   "cell_type": "code",
   "execution_count": null,
   "metadata": {},
   "outputs": [],
   "source": [
    "alpha = string.ascii_lowercase\n",
    "\n",
    "def is_alpha_char(c):\n",
    "    return c.lower() in alpha\n",
    "\n",
    "def char_to_num(c):\n",
    "    return alpha.index(c.lower())\n",
    "\n",
    "def num_to_char(x):\n",
    "    return alpha[ x % 26 ]"
   ]
  },
  {
   "cell_type": "code",
   "execution_count": null,
   "metadata": {},
   "outputs": [],
   "source": [
    "# Implement the gen_key(), encrypt_decrypt(), encode() and decode() functions for Vernam Cipher\n",
    "def gen_key(p):\n",
    "    return \n",
    "\n",
    "def encrypt_decrypt(p,k):\n",
    "    return \n",
    "\n",
    "def encode(plaintext):\n",
    "    return \n",
    "\n",
    "def decode(num):\n",
    "    return "
   ]
  },
  {
   "cell_type": "code",
   "execution_count": null,
   "metadata": {},
   "outputs": [],
   "source": [
    "# Encode the message 'meetmeafterthetogaparty' into numbers\n",
    "p = 'meetmeafterthetogaparty'\n",
    "p_encoded = \n",
    "print(p_encoded)"
   ]
  },
  {
   "cell_type": "code",
   "execution_count": null,
   "metadata": {},
   "outputs": [],
   "source": [
    "# Generate the key\n",
    "k = \n",
    "print(k)\n"
   ]
  },
  {
   "cell_type": "code",
   "execution_count": null,
   "metadata": {},
   "outputs": [],
   "source": [
    "# Encrypt the message\n",
    "c = \n",
    "print(c)"
   ]
  },
  {
   "cell_type": "code",
   "execution_count": null,
   "metadata": {},
   "outputs": [],
   "source": [
    "# Decrypt the message\n",
    "decode(encrypt_decrypt(c,k))"
   ]
  },
  {
   "cell_type": "markdown",
   "metadata": {},
   "source": [
    "# Steganography"
   ]
  },
  {
   "cell_type": "code",
   "execution_count": null,
   "metadata": {},
   "outputs": [],
   "source": [
    "from PIL import Image\n",
    "\n",
    "\n",
    "img = Image.open('pikachu.png', 'r')\n",
    "print('Image format:',img.mode)\n",
    "width, height = img.size\n",
    "arr = np.array(list(img.getdata()))\n"
   ]
  },
  {
   "cell_type": "code",
   "execution_count": null,
   "metadata": {},
   "outputs": [],
   "source": [
    "arr"
   ]
  },
  {
   "cell_type": "code",
   "execution_count": null,
   "metadata": {},
   "outputs": [],
   "source": [
    "plt.imshow(arr.reshape(height, width,4))"
   ]
  },
  {
   "cell_type": "code",
   "execution_count": null,
   "metadata": {},
   "outputs": [],
   "source": [
    "hidden_msg = 'hello, I am Pikachu!\\n'\n",
    "# convert into 8-bits string\n",
    "encoded_msg = [format(ord(c), \"08b\") for c in hidden_msg]\n",
    "print(encoded_msg)\n",
    "encoded_msg = ''.join(encoded_msg)"
   ]
  },
  {
   "cell_type": "code",
   "execution_count": null,
   "metadata": {},
   "outputs": [],
   "source": [
    "def replace_lsb(n,b):\n",
    "    n = list(bin(n))\n",
    "    n[-1] = b\n",
    "    return ''.join(n)"
   ]
  },
  {
   "cell_type": "code",
   "execution_count": null,
   "metadata": {},
   "outputs": [],
   "source": [
    "def encode(arr, msg):\n",
    "    arr = arr.ravel()\n",
    "    for i,c in enumerate(msg):\n",
    "        arr[i] = int(replace_lsb(arr[i], c)[2:],2)\n",
    "    return arr"
   ]
  },
  {
   "cell_type": "code",
   "execution_count": null,
   "metadata": {},
   "outputs": [],
   "source": [
    "arr = encode(arr, encoded_msg)"
   ]
  },
  {
   "cell_type": "code",
   "execution_count": null,
   "metadata": {},
   "outputs": [],
   "source": [
    "arr"
   ]
  },
  {
   "cell_type": "code",
   "execution_count": null,
   "metadata": {},
   "outputs": [],
   "source": [
    "plt.imshow(arr.reshape(height, width,4))"
   ]
  },
  {
   "cell_type": "code",
   "execution_count": null,
   "metadata": {},
   "outputs": [],
   "source": [
    "def decode(arr):\n",
    "    res = ''\n",
    "    for i in range(arr.shape[0]):\n",
    "        res += bin(arr[i])[-1]\n",
    "        if len(res)%8==0 and (res[-8:] == format(ord('\\n'), \"08b\")):\n",
    "            break\n",
    "    return ''.join([chr(int(res[i:i+8],2)) for i in range(0,len(res),8)])"
   ]
  },
  {
   "cell_type": "code",
   "execution_count": null,
   "metadata": {},
   "outputs": [],
   "source": [
    "decode(arr)"
   ]
  },
  {
   "cell_type": "code",
   "execution_count": null,
   "metadata": {},
   "outputs": [],
   "source": []
  },
  {
   "cell_type": "code",
   "execution_count": null,
   "metadata": {},
   "outputs": [],
   "source": []
  }
 ],
 "metadata": {
  "kernelspec": {
   "display_name": "SageMath 9.3",
   "language": "sage",
   "name": "sagemath"
  },
  "language_info": {
   "codemirror_mode": {
    "name": "ipython",
    "version": 3
   },
   "file_extension": ".py",
   "mimetype": "text/x-python",
   "name": "python",
   "nbconvert_exporter": "python",
   "pygments_lexer": "ipython3",
   "version": "3.7.10"
  }
 },
 "nbformat": 4,
 "nbformat_minor": 4
}
