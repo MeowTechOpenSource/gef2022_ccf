{
 "cells": [
  {
   "cell_type": "markdown",
   "metadata": {},
   "source": [
    "# Notes about Sage"
   ]
  },
  {
   "cell_type": "markdown",
   "metadata": {},
   "source": [
    "**Sage Thematic Tutorials**\n",
    "\n",
    "https://doc.sagemath.org/html/en/thematic_tutorials/index.html\n",
    "\n",
    "**Elements of the ring $\\mathbb{Z}$ of integers**\n",
    "\n",
    "https://doc.sagemath.org/html/en/reference/rings_standard/sage/rings/integer.html#"
   ]
  },
  {
   "cell_type": "markdown",
   "metadata": {},
   "source": [
    "1. Integers in Sage are members of the class 'sage.rings.integer.Integer' instead of the Python built in 'int' class\n"
   ]
  },
  {
   "cell_type": "code",
   "execution_count": 1,
   "metadata": {},
   "outputs": [
    {
     "data": {
      "text/plain": [
       "<class 'sage.rings.integer.Integer'>"
      ]
     },
     "execution_count": 1,
     "metadata": {},
     "output_type": "execute_result"
    }
   ],
   "source": [
    "type(1)"
   ]
  },
  {
   "cell_type": "code",
   "execution_count": 2,
   "metadata": {},
   "outputs": [
    {
     "data": {
      "text/plain": [
       "<class 'int'>"
      ]
     },
     "execution_count": 2,
     "metadata": {},
     "output_type": "execute_result"
    }
   ],
   "source": [
    "type(int(1))"
   ]
  },
  {
   "cell_type": "markdown",
   "metadata": {},
   "source": [
    "2. Division of Sage integers gives a rational number, contrary to the division of Python integers which returns a floating point number"
   ]
  },
  {
   "cell_type": "code",
   "execution_count": 3,
   "metadata": {},
   "outputs": [
    {
     "name": "stdout",
     "output_type": "stream",
     "text": [
      "3/2\n",
      "<class 'sage.rings.rational.Rational'>\n"
     ]
    }
   ],
   "source": [
    "print(3/2); print(type(3/2))"
   ]
  },
  {
   "cell_type": "code",
   "execution_count": 4,
   "metadata": {},
   "outputs": [
    {
     "name": "stdout",
     "output_type": "stream",
     "text": [
      "1.5\n",
      "<class 'float'>\n"
     ]
    }
   ],
   "source": [
    "print(int(3)/int(2)); print(type(int(3)/int(2)))"
   ]
  },
  {
   "cell_type": "markdown",
   "metadata": {},
   "source": [
    "3. The Sage built-in srange() function returns a list of Sage integers, with similar usage as the Python range() function"
   ]
  },
  {
   "cell_type": "code",
   "execution_count": 5,
   "metadata": {},
   "outputs": [
    {
     "name": "stdout",
     "output_type": "stream",
     "text": [
      "[0, 1, 2, 3, 4, 5, 6, 7, 8, 9]\n",
      "<class 'sage.rings.integer.Integer'>\n",
      "3/2\n"
     ]
    }
   ],
   "source": [
    "x = srange(10)\n",
    "\n",
    "print(x)\n",
    "print(type(x[0]))\n",
    "print(x[3]/2)"
   ]
  },
  {
   "cell_type": "code",
   "execution_count": 6,
   "metadata": {},
   "outputs": [
    {
     "name": "stdout",
     "output_type": "stream",
     "text": [
      "[0, 1, 2, 3, 4, 5, 6, 7, 8, 9]\n",
      "<class 'int'>\n",
      "1.5\n"
     ]
    }
   ],
   "source": [
    "y = list(range(10))\n",
    "\n",
    "print(y)\n",
    "print(type(y[3]))\n",
    "print(y[3]/int(2))"
   ]
  },
  {
   "cell_type": "code",
   "execution_count": 7,
   "metadata": {},
   "outputs": [
    {
     "data": {
      "text/plain": [
       "[2, 4, 6, 8, 10, 12, 14, 16, 18]"
      ]
     },
     "execution_count": 7,
     "metadata": {},
     "output_type": "execute_result"
    }
   ],
   "source": [
    "srange(2,20,2)"
   ]
  },
  {
   "cell_type": "code",
   "execution_count": 8,
   "metadata": {},
   "outputs": [
    {
     "data": {
      "text/plain": [
       "[2, 4, 6, 8, 10, 12, 14, 16, 18]"
      ]
     },
     "execution_count": 8,
     "metadata": {},
     "output_type": "execute_result"
    }
   ],
   "source": [
    "list(range(2,20,2))"
   ]
  },
  {
   "cell_type": "markdown",
   "metadata": {},
   "source": [
    "4. Useful methods"
   ]
  },
  {
   "cell_type": "markdown",
   "metadata": {},
   "source": [
    "**binary()**\n",
    "\n",
    "    Return the binary digits of self as a string."
   ]
  },
  {
   "cell_type": "code",
   "execution_count": 9,
   "metadata": {},
   "outputs": [
    {
     "name": "stdout",
     "output_type": "stream",
     "text": [
      "1111\n",
      "10000\n",
      "1101101011101100011110001110010010100111010001101010001111111000101000000000101111000010000011\n"
     ]
    }
   ],
   "source": [
    "print(Integer(15).binary())\n",
    "print(Integer(16).binary())\n",
    "print(Integer(16938402384092843092843098243).binary())"
   ]
  },
  {
   "cell_type": "markdown",
   "metadata": {},
   "source": [
    "**bits()**\n",
    "\n",
    "    Return the bits in self as a list, least significant first."
   ]
  },
  {
   "cell_type": "code",
   "execution_count": 10,
   "metadata": {},
   "outputs": [
    {
     "name": "stdout",
     "output_type": "stream",
     "text": [
      "[1, 1, 1, 1]\n",
      "[0, 0, 0, 0, 1]\n",
      "[1, 1, 0, 0, 0, 0, 0, 1, 0, 0, 0, 0, 1, 1, 1, 1, 0, 1, 0, 0, 0, 0, 0, 0, 0, 0, 0, 1, 0, 1, 0, 0, 0, 1, 1, 1, 1, 1, 1, 1, 0, 0, 0, 1, 0, 1, 0, 1, 1, 0, 0, 0, 1, 0, 1, 1, 1, 0, 0, 1, 0, 1, 0, 0, 1, 0, 0, 1, 1, 1, 0, 0, 0, 1, 1, 1, 1, 0, 0, 0, 1, 1, 0, 1, 1, 1, 0, 1, 0, 1, 1, 0, 1, 1]\n"
     ]
    }
   ],
   "source": [
    "print(Integer(15).bits())\n",
    "print(Integer(16).bits())\n",
    "print(Integer(16938402384092843092843098243).bits())"
   ]
  },
  {
   "cell_type": "markdown",
   "metadata": {},
   "source": [
    "**digits(base=10, digits=None, padto=0)**\n",
    "\n",
    "    Return a list of digits for self in the given base in little endian order.\n",
    "    The returned value is unspecified if self is a negative number and the digits are given.\n",
    "\n",
    "    INPUT:\n",
    "    - base - integer (default: 10)\n",
    "    - digits - optional indexable object as source for the digits\n",
    "    - padto - the minimal length of the returned list, sufficient number of zeros are added to make the list minimum that length (default: 0)\n",
    "\n",
    "    As a shorthand for digits(2), you can use bits()."
   ]
  },
  {
   "cell_type": "code",
   "execution_count": 11,
   "metadata": {},
   "outputs": [
    {
     "name": "stdout",
     "output_type": "stream",
     "text": [
      "[1, 0, 1]\n",
      "[1, 0, 1, 0, 0, 0, 0, 0]\n",
      "['one', 'zero', 'one']\n"
     ]
    }
   ],
   "source": [
    "print(Integer(5).digits(base=2))\n",
    "print(Integer(5).digits(base=2, padto=8))\n",
    "print(5.digits(base=2, digits=[\"zero\",\"one\"]))"
   ]
  },
  {
   "cell_type": "markdown",
   "metadata": {},
   "source": [
    "**nbits() / ndigits()**\n",
    "\n",
    "    Return the number of bits required to represent this integer."
   ]
  },
  {
   "cell_type": "code",
   "execution_count": 12,
   "metadata": {},
   "outputs": [
    {
     "data": {
      "text/plain": [
       "9"
      ]
     },
     "execution_count": 12,
     "metadata": {},
     "output_type": "execute_result"
    }
   ],
   "source": [
    "500.nbits()"
   ]
  },
  {
   "cell_type": "markdown",
   "metadata": {},
   "source": [
    "**ndigits(base=10)**\n",
    "\n",
    "    Return the number of digits of self expressed in the given base."
   ]
  },
  {
   "cell_type": "code",
   "execution_count": 13,
   "metadata": {},
   "outputs": [
    {
     "name": "stdout",
     "output_type": "stream",
     "text": [
      "9\n",
      "3\n"
     ]
    }
   ],
   "source": [
    "print(500.ndigits(base=2))\n",
    "print(500.ndigits(base=10))"
   ]
  },
  {
   "cell_type": "markdown",
   "metadata": {},
   "source": [
    "**hex()**\n",
    "\n",
    "    Return the hexadecimal digits of self in lower case."
   ]
  },
  {
   "cell_type": "code",
   "execution_count": 14,
   "metadata": {},
   "outputs": [
    {
     "name": "stdout",
     "output_type": "stream",
     "text": [
      "f\n",
      "10\n",
      "36bb1e3929d1a8fe2802f083\n"
     ]
    }
   ],
   "source": [
    "print(Integer(15).hex())\n",
    "print(Integer(16).hex())\n",
    "print(Integer(16938402384092843092843098243).hex())"
   ]
  },
  {
   "cell_type": "markdown",
   "metadata": {},
   "source": [
    "**next_prime()**\n",
    "\n",
    "    Return the next prime after self."
   ]
  },
  {
   "cell_type": "code",
   "execution_count": 15,
   "metadata": {},
   "outputs": [
    {
     "data": {
      "text/plain": [
       "101"
      ]
     },
     "execution_count": 15,
     "metadata": {},
     "output_type": "execute_result"
    }
   ],
   "source": [
    "100.next_prime()    "
   ]
  },
  {
   "cell_type": "markdown",
   "metadata": {},
   "source": [
    "**is_prime(proof=None)**\n",
    "\n",
    "    Test whether self is prime."
   ]
  },
  {
   "cell_type": "code",
   "execution_count": 16,
   "metadata": {},
   "outputs": [
    {
     "name": "stdout",
     "output_type": "stream",
     "text": [
      "False\n",
      "True\n"
     ]
    }
   ],
   "source": [
    "print(100.is_prime())\n",
    "print(100.next_prime().is_prime())"
   ]
  },
  {
   "cell_type": "markdown",
   "metadata": {},
   "source": [
    "**factor()**\n",
    "\n",
    "    Return the prime factorization of this integer as a formal Factorization object."
   ]
  },
  {
   "cell_type": "code",
   "execution_count": 17,
   "metadata": {},
   "outputs": [
    {
     "data": {
      "text/plain": [
       "2^2 * 5^2"
      ]
     },
     "execution_count": 17,
     "metadata": {},
     "output_type": "execute_result"
    }
   ],
   "source": [
    "100.factor()"
   ]
  },
  {
   "cell_type": "markdown",
   "metadata": {},
   "source": [
    "**divisors(method=None)**\n",
    "\n",
    "    Return the list of all positive integer divisors of this integer, sorted in increasing order."
   ]
  },
  {
   "cell_type": "code",
   "execution_count": 18,
   "metadata": {},
   "outputs": [
    {
     "data": {
      "text/plain": [
       "[1, 2, 3, 6]"
      ]
     },
     "execution_count": 18,
     "metadata": {},
     "output_type": "execute_result"
    }
   ],
   "source": [
    "6.divisors()"
   ]
  },
  {
   "cell_type": "code",
   "execution_count": null,
   "metadata": {},
   "outputs": [],
   "source": []
  }
 ],
 "metadata": {
  "kernelspec": {
   "display_name": "SageMath 9.3",
   "language": "sage",
   "name": "sagemath"
  },
  "language_info": {
   "codemirror_mode": {
    "name": "ipython",
    "version": 3
   },
   "file_extension": ".py",
   "mimetype": "text/x-python",
   "name": "python",
   "nbconvert_exporter": "python",
   "pygments_lexer": "ipython3",
   "version": "3.7.10"
  }
 },
 "nbformat": 4,
 "nbformat_minor": 4
}
